{
 "cells": [
  {
   "cell_type": "code",
   "execution_count": null,
   "id": "9aafcc09",
   "metadata": {},
   "outputs": [],
   "source": [
    "import numpy as np\n",
    "import matplotlib.pyplot as plt\n",
    "import skimage\n",
    "import skimage.io\n",
    "\n",
    "import torch\n",
    "from torch import nn\n",
    "from torch.utils.data import Dataset, DataLoader"
   ]
  },
  {
   "cell_type": "code",
   "execution_count": null,
   "id": "44aec08a",
   "metadata": {},
   "outputs": [],
   "source": [
    "## This code loads digits, but you'll have to rework it to fit into torch's data loader\n",
    "res = 28\n",
    "digits = []\n",
    "for i in range(10):\n",
    "    digits.append([])\n",
    "    I = skimage.io.imread(\"Digits/{}.png\".format(i))/255.0\n",
    "    row = 0\n",
    "    col = 0\n",
    "    while row < I.shape[0]:\n",
    "        col = 0\n",
    "        while col < I.shape[1]:\n",
    "            img = I[row:row+res, col:col+res]\n",
    "            if np.sum(img) > 0:\n",
    "                digits[i].append(img)\n",
    "            col += res\n",
    "        row += res\n",
    "    print(len(digits[i]), \"unique \", i, \" digits\")\n",
    "    "
   ]
  },
  {
   "cell_type": "code",
   "execution_count": null,
   "id": "e9b3760e",
   "metadata": {},
   "outputs": [],
   "source": [
    "class Digits(Dataset):\n",
    "    def __init__(self):\n",
    "        pass\n",
    "    \n",
    "    def __len__(self):\n",
    "        return 0\n",
    "    \n",
    "    def __getitem__(self, idx):\n",
    "        ## TODO: Return x, y\n",
    "        ## where x is a flattened digit as a torch tensor, and y is its ID\n",
    "        pass"
   ]
  }
 ],
 "metadata": {
  "kernelspec": {
   "display_name": "Python 3 (ipykernel)",
   "language": "python",
   "name": "python3"
  },
  "language_info": {
   "codemirror_mode": {
    "name": "ipython",
    "version": 3
   },
   "file_extension": ".py",
   "mimetype": "text/x-python",
   "name": "python",
   "nbconvert_exporter": "python",
   "pygments_lexer": "ipython3",
   "version": "3.11.3"
  }
 },
 "nbformat": 4,
 "nbformat_minor": 5
}
