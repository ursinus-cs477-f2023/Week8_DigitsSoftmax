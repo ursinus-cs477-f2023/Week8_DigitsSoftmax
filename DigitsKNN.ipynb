{
 "cells": [
  {
   "cell_type": "markdown",
   "id": "978c3842",
   "metadata": {},
   "source": [
    "Here's a notebook to show you how K-nearest neighbors with K=7 gets about 97% accuracy on MNIST.  So we should temper our excitement a bit with our results with neural nets"
   ]
  },
  {
   "cell_type": "code",
   "execution_count": 1,
   "id": "9aafcc09",
   "metadata": {},
   "outputs": [],
   "source": [
    "import numpy as np\n",
    "import numpy.linalg as linalg\n",
    "import matplotlib.pyplot as plt\n",
    "import skimage\n",
    "import skimage.io\n",
    "import scipy.stats\n",
    "import time"
   ]
  },
  {
   "cell_type": "markdown",
   "id": "06a3e65c",
   "metadata": {},
   "source": [
    "First let's load in the digits as before"
   ]
  },
  {
   "cell_type": "code",
   "execution_count": 2,
   "id": "44aec08a",
   "metadata": {},
   "outputs": [],
   "source": [
    "def load_digits(folder):\n",
    "    # Load in all digits\n",
    "    res = 28\n",
    "    digits = []\n",
    "    labels = []\n",
    "    for i in range(10):\n",
    "        I = skimage.io.imread(\"{}/{}.png\".format(folder, i))/255.0\n",
    "        row = 0\n",
    "        col = 0\n",
    "        while row < I.shape[0]:\n",
    "            col = 0\n",
    "            while col < I.shape[1]:\n",
    "                img = I[row:row+res, col:col+res]\n",
    "                if np.sum(img) > 0:\n",
    "                    digits.append(img.flatten())\n",
    "                    labels.append(i)\n",
    "                col += res\n",
    "            row += res\n",
    "    return np.array(digits), np.array(labels)\n",
    "\n",
    "X_train, y_train = load_digits(\"Digits\")\n",
    "X_test, y_test = load_digits(\"DigitsTest\")"
   ]
  },
  {
   "cell_type": "code",
   "execution_count": 3,
   "id": "b31fccce",
   "metadata": {},
   "outputs": [
    {
     "name": "stdout",
     "output_type": "stream",
     "text": [
      "0.9694\n"
     ]
    }
   ],
   "source": [
    "from sklearn.neighbors import KNeighborsClassifier\n",
    "neighb = KNeighborsClassifier(n_neighbors=7)\n",
    "\n",
    "neighb.fit(X_train, y_train)\n",
    "\n",
    "tic = time.time()\n",
    "res = neighb.predict(X_test)\n",
    "acc = np.sum(res == y_test)/y_test.size\n",
    "print(acc)"
   ]
  },
  {
   "cell_type": "code",
   "execution_count": null,
   "id": "e9b3760e",
   "metadata": {},
   "outputs": [],
   "source": []
  }
 ],
 "metadata": {
  "kernelspec": {
   "display_name": "Python 3 (ipykernel)",
   "language": "python",
   "name": "python3"
  },
  "language_info": {
   "codemirror_mode": {
    "name": "ipython",
    "version": 3
   },
   "file_extension": ".py",
   "mimetype": "text/x-python",
   "name": "python",
   "nbconvert_exporter": "python",
   "pygments_lexer": "ipython3",
   "version": "3.11.3"
  }
 },
 "nbformat": 4,
 "nbformat_minor": 5
}
